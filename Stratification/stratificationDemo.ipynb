{
 "cells": [
  {
   "cell_type": "code",
   "execution_count": 1,
   "metadata": {},
   "outputs": [],
   "source": [
    "from Stratification import Stratification\n",
    "from tabulate import tabulate\n",
    "import warnings\n",
    "import pandas as pd\n",
    "warnings.filterwarnings('ignore')\n",
    "tabulatePrint = lambda x: print(tabulate(x, headers='keys', tablefmt='psql'))"
   ]
  },
  {
   "cell_type": "code",
   "execution_count": 2,
   "metadata": {},
   "outputs": [],
   "source": [
    "StratificationH = Stratification(pd.read_csv('../Data/loantape.20200131.csv'))"
   ]
  },
  {
   "cell_type": "code",
   "execution_count": 3,
   "metadata": {},
   "outputs": [],
   "source": [
    "# *** add measures ***\n",
    "StratificationH.addMeasure(label = \"LoanCount\", column = \"ApplicationID\", calcMethod = \"Count\", calcHelper = None)\n",
    "StratificationH.addMeasure(\"LoanCount %\", \"ApplicationID\", \"Count %\", None)\n",
    "StratificationH.addMeasure(\"Financed\", \"OriginalAmtFinanced\", \"Sum\", None)\n",
    "StratificationH.addMeasure(\"Financed %\", \"OriginalAmtFinanced\", \"Sum %\", None)\n",
    "\n",
    "StratificationH.addMeasure(\"WAVGLTV\", \"LTVCore\", \"Wt_Avg\", 'UPB')\n",
    "StratificationH.addMeasure(\"WAVGFICO\", \"HighFico\", \"Wt_Avg\", 'UPB')\n",
    "StratificationH.addMeasure(\"AvgRate\", \"CurrentRate\", \"Wt_Avg\", 'UPB')\n",
    "\n",
    "StratificationH.addMeasure(\"PTI\", \"PTICore\", \"Wt_Avg\", 'UPB')\n",
    "StratificationH.addMeasure(\"DTI\", \"DTICore\", \"Wt_Avg\", 'UPB')\n",
    "\n",
    "StratificationH.addMeasure(\"BookValue\", \"BookValue\", \"Wt_Avg\", 'UPB')\n"
   ]
  },
  {
   "cell_type": "code",
   "execution_count": 4,
   "metadata": {},
   "outputs": [],
   "source": [
    "# add dimensions\n",
    "StratificationH.addDimension(label = \"Make\", column = \"Make\", \n",
    "                             bucketingRule = None, sortBy = \"Financed %\", sortAscending = False, topN = 10)\n",
    "\n",
    "StratificationH.addDimension(\"BookNewUsed\", \"BookNewUsed\", None, None, False, None)\n",
    "StratificationH.addDimension(\"BookTier\", \"BookTier\", None, \"Financed\", False, 5)\n",
    "\n",
    "StratificationH.addDimension(\"LoanStatus\", \"LoanStatus\", None, None, None, None)\n",
    "StratificationH.addDimension(\"LoanTerm\", \"OriginalTerm\", None, None, None, None)\n",
    "\n",
    "StratificationH.addDimension(\"IntRate\", \"OriginalRate\", {\"binSize\": 0.02, \"lower\":0.1, \"upper\":0.26}, None, False, None)\n",
    "StratificationH.addDimension(\"LTVCore\", \"LTVCore\", {\"binSize\": 0.1}, None, False,  None)\n",
    "StratificationH.addDimension(\"FICO\", \"HighFico\", {\"binSize\": 30, 'lower': 540, \"upper\": 720}, None, False,  None)\n"
   ]
  },
  {
   "cell_type": "code",
   "execution_count": 5,
   "metadata": {},
   "outputs": [],
   "source": [
    "# generate strats\n",
    "StratificationH.generateStrat()"
   ]
  },
  {
   "cell_type": "code",
   "execution_count": 6,
   "metadata": {},
   "outputs": [
    {
     "name": "stdout",
     "output_type": "stream",
     "text": [
      "+----------------+-------------+---------------+-------------+--------------+-----------+------------+-----------+-----------+----------+-------------+\n",
      "|                |   LoanCount |   LoanCount % |    Financed |   Financed % |   WAVGLTV |   WAVGFICO |   AvgRate |       PTI |      DTI |   BookValue |\n",
      "|----------------+-------------+---------------+-------------+--------------+-----------+------------+-----------+-----------+----------+-------------|\n",
      "| (-inf, 540.0]  |        1445 |    0.1702     | 3.07652e+07 |   0.17177    |   1.19585 |    524.415 |  0.175966 | 0.105908  | 0.324071 |     19953.6 |\n",
      "| (540.0, 570.0] |        1853 |    0.218257   | 3.93421e+07 |   0.219657   |   1.20334 |    556.437 |  0.170726 | 0.105354  | 0.331421 |     19959   |\n",
      "| (570.0, 600.0] |        1957 |    0.230506   | 4.18613e+07 |   0.233723   |   1.22034 |    585.409 |  0.164622 | 0.1066    | 0.332707 |     19802.8 |\n",
      "| (600.0, 630.0] |        1562 |    0.183981   | 3.29531e+07 |   0.183986   |   1.23713 |    614.56  |  0.1552   | 0.102844  | 0.331196 |     19434.1 |\n",
      "| (630.0, 660.0] |         992 |    0.116843   | 2.04934e+07 |   0.11442    |   1.2579  |    643.634 |  0.148421 | 0.103617  | 0.344561 |     18551   |\n",
      "| (660.0, 690.0] |         428 |    0.0504122  | 8.60744e+06 |   0.0480576  |   1.26926 |    672.26  |  0.137008 | 0.0959316 | 0.341093 |     17972.7 |\n",
      "| (690.0, 720.0] |         175 |    0.0206125  | 3.50213e+06 |   0.0195533  |   1.28214 |    702.107 |  0.120543 | 0.0953128 | 0.345014 |     18067.5 |\n",
      "| (720.0, inf]   |          78 |    0.00918728 | 1.58189e+06 |   0.00883212 |   1.26249 |    745.218 |  0.124571 | 0.0870875 | 0.313011 |     18613.8 |\n",
      "| Total          |        8490 |    1          | 1.79107e+08 |   1          |   1.22345 |    587.925 |  0.161941 | 0.104312  | 0.332446 |     19527   |\n",
      "+----------------+-------------+---------------+-------------+--------------+-----------+------------+-----------+-----------+----------+-------------+\n"
     ]
    }
   ],
   "source": [
    "tabulatePrint(StratificationH.stratsTable['FICO'])"
   ]
  },
  {
   "cell_type": "code",
   "execution_count": 7,
   "metadata": {},
   "outputs": [
    {
     "name": "stdout",
     "output_type": "stream",
     "text": [
      "+----------+-------------+---------------+-------------+--------------+-----------+------------+-----------+----------+----------+-------------+\n",
      "|          |   LoanCount |   LoanCount % |    Financed |   Financed % |   WAVGLTV |   WAVGFICO |   AvgRate |      PTI |      DTI |   BookValue |\n",
      "|----------+-------------+---------------+-------------+--------------+-----------+------------+-----------+----------+----------+-------------|\n",
      "| CHEVROLE |        1111 |     0.13086   | 2.38142e+07 |    0.132961  |   1.20549 |    590.162 |  0.161597 | 0.104822 | 0.326011 |     20548   |\n",
      "| NISSAN   |        1072 |     0.126266  | 2.21675e+07 |    0.123767  |   1.24264 |    584.54  |  0.167239 | 0.10913  | 0.339043 |     18596.9 |\n",
      "| FORD     |         721 |     0.0849234 | 1.44947e+07 |    0.0809279 |   1.24048 |    594.325 |  0.157964 | 0.102414 | 0.330601 |     18648.3 |\n",
      "| KIA      |         568 |     0.0669022 | 1.14194e+07 |    0.0637575 |   1.23232 |    581.174 |  0.167678 | 0.108078 | 0.330392 |     18109.6 |\n",
      "| TOYOTA   |         532 |     0.062662  | 1.12605e+07 |    0.0628701 |   1.23455 |    590.106 |  0.156183 | 0.103671 | 0.345409 |     19399.3 |\n",
      "| JEEP     |         504 |     0.059364  | 1.10748e+07 |    0.0618335 |   1.20601 |    588.475 |  0.160783 | 0.105967 | 0.329795 |     20291.1 |\n",
      "| HYUNDAI  |         550 |     0.0647821 | 1.01514e+07 |    0.056678  |   1.27047 |    585.581 |  0.164768 | 0.103206 | 0.344062 |     16211.3 |\n",
      "| DODGE    |         415 |     0.048881  | 9.27472e+06 |    0.0517832 |   1.20292 |    591.746 |  0.16291  | 0.10808  | 0.328647 |     21121.1 |\n",
      "| HONDA    |         361 |     0.0425206 | 7.03135e+06 |    0.0392579 |   1.26843 |    590.331 |  0.157632 | 0.101444 | 0.346962 |     16812.6 |\n",
      "| FORD TRU |         241 |     0.0283863 | 5.55624e+06 |    0.031022  |   1.19884 |    582.939 |  0.16414  | 0.103427 | 0.325275 |     20981.7 |\n",
      "| Other    |        2415 |     0.284452  | 5.28618e+07 |    0.295142  |   1.20907 |    587.454 |  0.16078  | 0.101544 | 0.328526 |     20454.8 |\n",
      "| Total    |        8490 |     1         | 1.79107e+08 |    1         |   1.22345 |    587.925 |  0.161941 | 0.104312 | 0.332446 |     19527   |\n",
      "+----------+-------------+---------------+-------------+--------------+-----------+------------+-----------+----------+----------+-------------+\n"
     ]
    }
   ],
   "source": [
    "tabulatePrint(StratificationH.stratsTable['Make'])"
   ]
  }
 ],
 "metadata": {
  "kernelspec": {
   "display_name": "Python 3",
   "language": "python",
   "name": "python3"
  },
  "language_info": {
   "codemirror_mode": {
    "name": "ipython",
    "version": 3
   },
   "file_extension": ".py",
   "mimetype": "text/x-python",
   "name": "python",
   "nbconvert_exporter": "python",
   "pygments_lexer": "ipython3",
   "version": "3.10.12"
  },
  "orig_nbformat": 4
 },
 "nbformat": 4,
 "nbformat_minor": 2
}
