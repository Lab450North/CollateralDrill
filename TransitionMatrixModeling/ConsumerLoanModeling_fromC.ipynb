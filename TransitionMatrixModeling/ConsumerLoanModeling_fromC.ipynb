{
 "cells": [
  {
   "cell_type": "code",
   "execution_count": null,
   "metadata": {},
   "outputs": [],
   "source": [
    "import numpy as np\n",
    "import pandas as pd\n",
    "\n",
    "import imp\n",
    "import LoanPortfolio\n",
    "import DataLoad\n",
    "import LoanPortfolioModeling\n",
    "from sklearn.preprocessing import StandardScaler\n",
    "\n",
    "imp.reload(LoanPortfolio)\n",
    "imp.reload(LoanPortfolioModeling)\n"
   ]
  },
  {
   "cell_type": "code",
   "execution_count": 2,
   "metadata": {},
   "outputs": [],
   "source": [
    "# Load Portfolio and Data\n",
    "loanPortfolio = LoanPortfolio.LoanPortfolio(rawLoanTapeDf= DataLoad.loanTapeRaw, macroDataDf = DataLoad.macroDataDf, forecastDate = \"2022-12-31\")\n",
    "fromC = loanPortfolio.splitLoanTapeModelDict[\"fromC\"]\n",
    "\n",
    "modelingCH = LoanPortfolioModeling.LoanPortfolioModeling(\n",
    "    fromC, responseVariable=\"LoanStatus2_Ind\"\n",
    ")\n",
    "\n"
   ]
  },
  {
   "cell_type": "code",
   "execution_count": 3,
   "metadata": {},
   "outputs": [
    {
     "data": {
      "text/plain": [
       "<LoanPortfolioModeling.LoanPortfolioModeling at 0x1117d1990>"
      ]
     },
     "execution_count": 3,
     "metadata": {},
     "output_type": "execute_result"
    }
   ],
   "source": [
    "modelingCH.setInputList(\n",
    "    [\n",
    "        \"PTICore\",\n",
    "        \"LTVCore\",\n",
    "        \"BookTier\",\n",
    "        \"UPB_Lag1\",\n",
    "        \"MOB\",\n",
    "        \"RemainingTerm\",\n",
    "        \"NumberOfExtensions\",\n",
    "        \"CurrentRate\",\n",
    "        \"DTICore\",\n",
    "        \"ModelYr\",\n",
    "        \"BookValue\",\n",
    "        \"OriginalAmtFinanced\",\n",
    "        \"OriginalTerm\",\n",
    "        \"BookNewUsed\",\n",
    "        \"BookMileage\",\n",
    "        \"HighFico\",\n",
    "        \"remitQtr\",\n",
    "        \"factor_Lag1\",\n",
    "        \"PSAVERT\",\n",
    "    ],\n",
    "    \"covariateList\",\n",
    "    \"base\",\n",
    ")\n",
    "\n",
    "modelingCH.setInputList(\n",
    "    [\"BookTier\", \"BookNewUsed\", \"remitQtr\"], \"tuningVariableList\", \"categoricalList\"\n",
    ")"
   ]
  },
  {
   "attachments": {},
   "cell_type": "markdown",
   "metadata": {},
   "source": [
    "#### Step 1\n",
    "- univariate model and kick out univariate w/ p-value > 0.25\n",
    "- pooling catagorical depends"
   ]
  },
  {
   "cell_type": "code",
   "execution_count": null,
   "metadata": {},
   "outputs": [],
   "source": [
    "# modelingCH.loopThroughUnitvariate()\n",
    "# print(modelingCH.univariateRunSummary)"
   ]
  },
  {
   "cell_type": "code",
   "execution_count": null,
   "metadata": {},
   "outputs": [],
   "source": [
    "# remove unsignificant covariate\n",
    "modelingCH.updateInputList({\"remove\": [\"DTICore\"]}, \"covariateList\", \"base\")\n",
    "modelingCH.updateInputList(\n",
    "    {\"add\": [\"BookValue\", \"OriginalAmtFinanced\", \"BookMileage\", \"UPB_Lag1\"]},\n",
    "    \"tuningVariableList\",\n",
    "    \"standardizedVariableList\",\n",
    ")"
   ]
  },
  {
   "cell_type": "code",
   "execution_count": 5,
   "metadata": {},
   "outputs": [
    {
     "data": {
      "text/plain": [
       "<LoanPortfolioModeling.LoanPortfolioModeling at 0x1117d1990>"
      ]
     },
     "execution_count": 5,
     "metadata": {},
     "output_type": "execute_result"
    }
   ],
   "source": [
    "# pooling categorical: booktier and remitQtr\n",
    "\n",
    "# modelingCH.displayCoef(modelingCH.univariateRunSummary[modelingCH.univariateRunSummary['Variable'] == 'remitQtr'][['modelRes']].values[0][0])\n",
    "\n",
    "\n",
    "bookTierPooling = {}\n",
    "for item in [\"Tier 1\",\"Tier 2\",\"Tier 0\",\"Tier -\"]:\n",
    "    bookTierPooling[item] = \"Tier-1\"\n",
    "\n",
    "for item in [\"Tier 4\", \"Tier -1\", \"Tier 3\"]:\n",
    "    bookTierPooling[item] = \"Tier-2\"\n",
    "\n",
    "for item in [\"Tier 6\", \"Tier 5\", \"Tier Thin\"]:\n",
    "    bookTierPooling[item] = \"Tier-3\"\n",
    "\n",
    "for item in [\"Tier 7\", \"Tier 8\"]:\n",
    "    bookTierPooling[item] = \"Tier-4\"\n",
    "    \n",
    "for item in [\"Tier 9\", \"Tier 10\"]:\n",
    "    bookTierPooling[item] = \"Tier-5\"\n",
    "\n",
    "modelingCH.poolingCategorical(\"BookTier\", \"BookTierPoolingfromC\", bookTierPooling)\n",
    "modelingCH.updateInputList(\n",
    "    {\"add\": [\"BookTierPoolingfromC\"], \"remove\": [\"BookTier\"]}, \"covariateList\", \"base\"\n",
    ")\n",
    "\n",
    "remitQtrPooling = {}\n",
    "for item in [1,2]:\n",
    "    remitQtrPooling[item] = \"remit1H\"\n",
    "    \n",
    "for item in [3,4]:\n",
    "    remitQtrPooling[item] = \"remit2H\"\n",
    "\n",
    "modelingCH.poolingCategorical(\"remitQtr\", \"remitQtrPoolingfromC\", remitQtrPooling)\n",
    "modelingCH.updateInputList(\n",
    "    {\"add\": [\"remitQtrPoolingfromC\"], \"remove\": [\"remitQtr\"]}, \"covariateList\", \"base\"\n",
    ")\n"
   ]
  },
  {
   "cell_type": "code",
   "execution_count": null,
   "metadata": {},
   "outputs": [],
   "source": [
    "modelingCH.runModel(targetCovariateGroup=\"base\")\n",
    "\n",
    "modelingCH.appendRegressionResults(resName = \"step1 CovariateSelect\", resNotes = \"step 1 multivariate. kick out <.25 univariate, pooling categorical, add standardized numerical\")\n"
   ]
  },
  {
   "attachments": {},
   "cell_type": "markdown",
   "metadata": {},
   "source": [
    "#### Step 2 / Step 3\n",
    "- check unsignificant covariate in covariate model\n",
    "- check each removal of covariate impact on chi2 (overall significance) and params change (confounding check)\n"
   ]
  },
  {
   "cell_type": "code",
   "execution_count": 7,
   "metadata": {},
   "outputs": [
    {
     "data": {
      "text/plain": [
       "<LoanPortfolioModeling.LoanPortfolioModeling at 0x1117d1990>"
      ]
     },
     "execution_count": 7,
     "metadata": {},
     "output_type": "execute_result"
    }
   ],
   "source": [
    "# print(modelingCH.RegressionResults['step1 CovariateSelect']['modelRes'].summary())\n",
    "# focus on p value of statu = 1 (ED), and 3 (Prepaid)\n",
    "# ModelYr, BookMileage, BookNewUsed, BookValue\n",
    "\n",
    "# baseCovariateModel = modelingCH.RegressionResults['step1 CovariateSelect']\n",
    "\n",
    "# testModelYr = modelingCH.runAgainstVariate(baseCovariateModel, \"ModelYr\", remove = True)\n",
    "\n",
    "# testBookMileage = modelingCH.runAgainstVariate(baseCovariateModel, \"BookMileage\", remove = True)\n",
    "\n",
    "# testNewUsed = modelingCH.runAgainstVariate(baseCovariateModel, \"BookNewUsed\", remove = True)\n",
    "\n",
    "# testBookValue = modelingCH.runAgainstVariate(baseCovariateModel, \"BookValue\", remove = True)\n",
    "\n",
    "modelingCH.updateInputList({\"remove\": [\"BookValue\"]}, \"covariateList\", \"base\")\n",
    "\n"
   ]
  },
  {
   "cell_type": "code",
   "execution_count": null,
   "metadata": {},
   "outputs": [],
   "source": [
    "modelingCH.runModel(targetCovariateGroup=\"base\")\n",
    "modelingCH.appendRegressionResults(resName = \"step 3 multivariate\", resNotes = \"remove unsignificant covariate. checked confounding impact\")"
   ]
  },
  {
   "attachments": {},
   "cell_type": "markdown",
   "metadata": {},
   "source": [
    "#### Step 4\n",
    "- add variable excluded from step 1 and check 1) their significance and 2) confounding\n",
    "\n"
   ]
  },
  {
   "cell_type": "code",
   "execution_count": null,
   "metadata": {},
   "outputs": [],
   "source": [
    "# DTICore\n",
    "\n",
    "# baseCovariateModel = modelingCH.RegressionResults['step 3 multivariate']\n",
    "# modelingCH.updateInputList(\n",
    "#     {\"add\": [\"DTICore\"]},\n",
    "#     \"tuningVariableList\",\n",
    "#     \"standardizedVariableList\",\n",
    "# )\n",
    "\n",
    "# testDTICore= modelingCH.runAgainstVariate(baseCovariateModel, \"DTICore\", remove = False)\n",
    "# include DTI no major impact. p value ~20%, no meaningful confounding impact\n",
    "\n",
    "modelingCH.runModel(targetCovariateGroup=\"base\")\n",
    "modelingCH.appendRegressionResults(resName = \"step 4 multivariate\", resNotes = \"checked confounding impact from variate excluded from step 1\")\n",
    "\n",
    "\n"
   ]
  },
  {
   "attachments": {},
   "cell_type": "markdown",
   "metadata": {},
   "source": [
    "#### Step 5: check continuous variable for non-linearity\n"
   ]
  },
  {
   "cell_type": "code",
   "execution_count": null,
   "metadata": {},
   "outputs": [],
   "source": [
    "# continuous variable based off step 4 multivariate model\n",
    "\n",
    "# PTICore, LTVCore, UPB_Lag1, MOB, RemainingTerm, CurrentRate, ModelYr, OriginalAmtFinanced, OriginalTerm, BookMileage, HighFico, factor_Lag1, PSAVERT\n",
    "\n",
    "\n",
    "# modelingCH.displayLogitOnSingle('PSAVERT', binsArg={\"m\": 6})\n",
    "# focus on 1 to 0 and 3 to 0 odds ratio\n",
    "# there are non-linearity; however, for the purpose of this project, we will not include non-linearity. move on\n",
    "\n"
   ]
  },
  {
   "attachments": {},
   "cell_type": "markdown",
   "metadata": {},
   "source": [
    "#### Step 6: check interaction term"
   ]
  },
  {
   "cell_type": "code",
   "execution_count": null,
   "metadata": {},
   "outputs": [],
   "source": [
    "# test = modelingCH.runInteractionTerms()\n",
    "# test.to_csv(\"fromC_interactionTerms.csv\", index = False)\n",
    "# many significant interaction terms. added top 2 based off g2 and clinical meaning\n",
    "# RemainingTerm x factor_Lag1\n",
    "# MOB x RemainingTerm\n",
    "\n",
    "\n",
    "modelingCH.updateInputList(\n",
    "    {\"add\": [[\"RemainingTerm\",\"factor_Lag1\"],[\"MOB\",\"RemainingTerm\"]]},\n",
    "    \"tuningVariableList\",\n",
    "    \"interaction\",\n",
    ")\n",
    "modelingCH.addInteraction()\n",
    "\n",
    "modelingCH.setInputList(\n",
    "    modelingCH.RegressionResults['step 4 multivariate']['covariate'] + ['RemainingTerm x factor_Lag1','MOB x RemainingTerm'],\n",
    "    \"covariateList\",\n",
    "    \"base\",\n",
    ")\n",
    "modelingCH.runModel(targetCovariateGroup=\"base\")\n",
    "\n",
    "modelingCH.appendRegressionResults(resName = \"step 6 multivariate\", resNotes = \"checked out interaction terms. added two interaction terms.\")"
   ]
  },
  {
   "attachments": {},
   "cell_type": "markdown",
   "metadata": {},
   "source": [
    "#### Train and Split into training and test data set\n",
    "- use final step covariate model to train\n",
    "- test on test data set\n",
    "- use AUC to summarize good of fitness"
   ]
  },
  {
   "cell_type": "code",
   "execution_count": null,
   "metadata": {},
   "outputs": [],
   "source": [
    "# modelingCH.runTrainingTest()\n",
    "# print(modelingCH.trainingTestRes['AUC(ovr)'])\n",
    "# print(modelingCH.trainingTestRes['AUC(ovo)'])\n",
    "\n",
    "# .84\n",
    "# .81"
   ]
  },
  {
   "cell_type": "code",
   "execution_count": 14,
   "metadata": {},
   "outputs": [],
   "source": [
    "savePkl = {\"model\":modelingCH.RegressionResults['step 6 multivariate'],\n",
    "           \"mappings\":[{\"origCol\":\"BookTier\",\"newCol\":\"BookTierPoolingfromC\",\"mapping\":bookTierPooling},\n",
    "                       {\"origCol\":\"remitQtr\",\"newCol\":\"remitQtrPoolingfromC\",\"mapping\":remitQtrPooling}                       \n",
    "                       ]\n",
    "           }\n",
    "\n",
    "import pickle\n",
    "\n",
    "with open('fromCModel.pickle', 'wb') as handle:\n",
    "    pickle.dump(savePkl, handle, protocol=pickle.HIGHEST_PROTOCOL)"
   ]
  },
  {
   "cell_type": "code",
   "execution_count": null,
   "metadata": {},
   "outputs": [],
   "source": []
  }
 ],
 "metadata": {
  "kernelspec": {
   "display_name": "Python 3",
   "language": "python",
   "name": "python3"
  },
  "language_info": {
   "codemirror_mode": {
    "name": "ipython",
    "version": 3
   },
   "file_extension": ".py",
   "mimetype": "text/x-python",
   "name": "python",
   "nbconvert_exporter": "python",
   "pygments_lexer": "ipython3",
   "version": "3.11.2"
  },
  "orig_nbformat": 4
 },
 "nbformat": 4,
 "nbformat_minor": 2
}
