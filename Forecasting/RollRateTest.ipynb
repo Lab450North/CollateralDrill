{
 "cells": [
  {
   "cell_type": "code",
   "execution_count": 1,
   "metadata": {},
   "outputs": [],
   "source": [
    "import warnings\n",
    "import pandas as pd\n",
    "import numpy as np\n",
    "from datetime import datetime\n",
    "import numpy_financial as npf\n",
    "from datetime import date\n",
    "import time\n",
    "from dateutil.relativedelta import relativedelta\n",
    "warnings.filterwarnings('ignore')\n",
    "\n",
    "import RollRateModeling"
   ]
  },
  {
   "cell_type": "code",
   "execution_count": 3,
   "metadata": {},
   "outputs": [],
   "source": [
    "loanTape = pd.read_csv('../Data/loantape.20200131.csv')\n",
    "loanTape = loanTape[loanTape['UPB'] > 10]"
   ]
  },
  {
   "cell_type": "code",
   "execution_count": 4,
   "metadata": {},
   "outputs": [],
   "source": [
    "\n",
    "rollRateRun = RollRateModeling.RollRateAmortization(loanTape)\n",
    "rollRateRun.runCashflow()\n"
   ]
  },
  {
   "cell_type": "code",
   "execution_count": 6,
   "metadata": {},
   "outputs": [
    {
     "data": {
      "text/plain": [
       "ApplicationID  StatusBucket  LoanColumns\n",
       "10000318       Current       EOPBal         1788.420388\n",
       "               EarlyDQ       EOPBal                 NaN\n",
       "               LateDQ        EOPBal                 NaN\n",
       "               CO            EOPBal            0.000000\n",
       "               Prepaid       EOPBal            0.000000\n",
       "                                               ...     \n",
       "9999851        Current       EOPBal         2384.504922\n",
       "               EarlyDQ       EOPBal                 NaN\n",
       "               LateDQ        EOPBal                 NaN\n",
       "               CO            EOPBal            0.000000\n",
       "               Prepaid       EOPBal            0.000000\n",
       "Name: 2021-09-28, Length: 40290, dtype: float64"
      ]
     },
     "execution_count": 6,
     "metadata": {},
     "output_type": "execute_result"
    }
   ],
   "source": [
    "\n",
    "\n",
    "rollRateRun.loans.loc[RollRateModeling.idx[:,:,'EOPBal'], rollRateRun.loans.columns[20]].max()\n",
    "    "
   ]
  }
 ],
 "metadata": {
  "kernelspec": {
   "display_name": "Python 3",
   "language": "python",
   "name": "python3"
  },
  "language_info": {
   "codemirror_mode": {
    "name": "ipython",
    "version": 3
   },
   "file_extension": ".py",
   "mimetype": "text/x-python",
   "name": "python",
   "nbconvert_exporter": "python",
   "pygments_lexer": "ipython3",
   "version": "3.10.12"
  },
  "orig_nbformat": 4
 },
 "nbformat": 4,
 "nbformat_minor": 2
}
