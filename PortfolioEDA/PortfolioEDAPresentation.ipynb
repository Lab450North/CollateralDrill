{
 "cells": [
  {
   "cell_type": "code",
   "execution_count": 5,
   "metadata": {},
   "outputs": [],
   "source": [
    "import PortfolioEDA\n",
    "import pandas as pd\n",
    "from tabulate import tabulate\n",
    "import warnings\n",
    "\n",
    "warnings.filterwarnings('ignore')\n",
    "tabulatePrint = lambda x: print(tabulate(x, headers='keys', tablefmt='psql'))"
   ]
  },
  {
   "cell_type": "code",
   "execution_count": 6,
   "metadata": {},
   "outputs": [],
   "source": [
    "\n",
    "portfolioEDA_handle = PortfolioEDA.PortfolioEDA(pd.read_csv('../Data/loantape.csv'), \n",
    "                    colNames = {\"date\":'Snapshotdt', \n",
    "                                \"loanStatus\":'LoanStatus2',\n",
    "                                \"eopBal\":'UPB'})"
   ]
  },
  {
   "cell_type": "markdown",
   "metadata": {},
   "source": [
    "#### Transition Matrix"
   ]
  },
  {
   "cell_type": "code",
   "execution_count": 7,
   "metadata": {},
   "outputs": [
    {
     "data": {
      "text/html": [
       "<div>\n",
       "<style scoped>\n",
       "    .dataframe tbody tr th:only-of-type {\n",
       "        vertical-align: middle;\n",
       "    }\n",
       "\n",
       "    .dataframe tbody tr th {\n",
       "        vertical-align: top;\n",
       "    }\n",
       "\n",
       "    .dataframe thead th {\n",
       "        text-align: right;\n",
       "    }\n",
       "</style>\n",
       "<table border=\"1\" class=\"dataframe\">\n",
       "  <thead>\n",
       "    <tr style=\"text-align: right;\">\n",
       "      <th>LoanStatus2</th>\n",
       "      <th>CO</th>\n",
       "      <th>Current</th>\n",
       "      <th>EarlyDQ</th>\n",
       "      <th>LateDQ</th>\n",
       "      <th>Prepaid</th>\n",
       "    </tr>\n",
       "    <tr>\n",
       "      <th>LoanStatus2_Lag1</th>\n",
       "      <th></th>\n",
       "      <th></th>\n",
       "      <th></th>\n",
       "      <th></th>\n",
       "      <th></th>\n",
       "    </tr>\n",
       "  </thead>\n",
       "  <tbody>\n",
       "    <tr>\n",
       "      <th>CO</th>\n",
       "      <td>1.000000</td>\n",
       "      <td>0.000000</td>\n",
       "      <td>0.000000</td>\n",
       "      <td>0.000000</td>\n",
       "      <td>0.000000</td>\n",
       "    </tr>\n",
       "    <tr>\n",
       "      <th>Current</th>\n",
       "      <td>0.000247</td>\n",
       "      <td>0.900683</td>\n",
       "      <td>0.078077</td>\n",
       "      <td>0.001042</td>\n",
       "      <td>0.019950</td>\n",
       "    </tr>\n",
       "    <tr>\n",
       "      <th>EarlyDQ</th>\n",
       "      <td>0.000403</td>\n",
       "      <td>0.325609</td>\n",
       "      <td>0.371572</td>\n",
       "      <td>0.291215</td>\n",
       "      <td>0.011201</td>\n",
       "    </tr>\n",
       "    <tr>\n",
       "      <th>LateDQ</th>\n",
       "      <td>0.097143</td>\n",
       "      <td>0.116412</td>\n",
       "      <td>0.080974</td>\n",
       "      <td>0.698031</td>\n",
       "      <td>0.007441</td>\n",
       "    </tr>\n",
       "    <tr>\n",
       "      <th>Prepaid</th>\n",
       "      <td>NaN</td>\n",
       "      <td>NaN</td>\n",
       "      <td>NaN</td>\n",
       "      <td>NaN</td>\n",
       "      <td>NaN</td>\n",
       "    </tr>\n",
       "  </tbody>\n",
       "</table>\n",
       "</div>"
      ],
      "text/plain": [
       "LoanStatus2             CO   Current   EarlyDQ    LateDQ   Prepaid\n",
       "LoanStatus2_Lag1                                                  \n",
       "CO                1.000000  0.000000  0.000000  0.000000  0.000000\n",
       "Current           0.000247  0.900683  0.078077  0.001042  0.019950\n",
       "EarlyDQ           0.000403  0.325609  0.371572  0.291215  0.011201\n",
       "LateDQ            0.097143  0.116412  0.080974  0.698031  0.007441\n",
       "Prepaid                NaN       NaN       NaN       NaN       NaN"
      ]
     },
     "execution_count": 7,
     "metadata": {},
     "output_type": "execute_result"
    }
   ],
   "source": [
    "portfolioEDA_handle.portfolioTrend.generateTransitionMatrix()\n",
    "portfolioEDA_handle.portfolioTrend.getLatestTransitionMatrix()"
   ]
  },
  {
   "cell_type": "markdown",
   "metadata": {},
   "source": [
    "#### Stratification"
   ]
  },
  {
   "cell_type": "code",
   "execution_count": 9,
   "metadata": {},
   "outputs": [],
   "source": [
    "portfolioEDA_handle.portfolioStratification.addMeasure(label = \"LoanCount\", column = \"ApplicationID\", calcMethod = \"Count\", calcHelper = None)\n",
    "\n",
    "portfolioEDA_handle.portfolioStratification.addMeasure(label = \"LoanCount\", column = \"ApplicationID\", calcMethod = \"Count\", calcHelper = None)\n",
    "portfolioEDA_handle.portfolioStratification.addMeasure(\"LoanCount %\", \"ApplicationID\", \"Count %\", None)\n",
    "portfolioEDA_handle.portfolioStratification.addMeasure(\"Financed\", \"OriginalAmtFinanced\", \"Sum\", None)\n",
    "portfolioEDA_handle.portfolioStratification.addMeasure(\"Financed %\", \"OriginalAmtFinanced\", \"Sum %\", None)\n",
    "\n",
    "portfolioEDA_handle.portfolioStratification.addMeasure(\"WAVGLTV\", \"LTVCore\", \"Wt_Avg\", 'UPB')\n",
    "portfolioEDA_handle.portfolioStratification.addMeasure(\"WAVGFICO\", \"HighFico\", \"Wt_Avg\", 'UPB')\n",
    "portfolioEDA_handle.portfolioStratification.addMeasure(\"AvgRate\", \"CurrentRate\", \"Wt_Avg\", 'UPB')\n",
    "\n",
    "portfolioEDA_handle.portfolioStratification.addMeasure(\"PTI\", \"PTICore\", \"Wt_Avg\", 'UPB')\n",
    "portfolioEDA_handle.portfolioStratification.addMeasure(\"DTI\", \"DTICore\", \"Wt_Avg\", 'UPB')\n",
    "\n",
    "portfolioEDA_handle.portfolioStratification.addMeasure(\"BookValue\", \"BookValue\", \"Wt_Avg\", 'UPB')\n"
   ]
  },
  {
   "cell_type": "code",
   "execution_count": 10,
   "metadata": {},
   "outputs": [],
   "source": [
    "# add dimensions\n",
    "portfolioEDA_handle.portfolioStratification.addDimension(label = \"Make\", column = \"Make\", \n",
    "                             bucketingRule = None, sortBy = \"Financed %\", sortAscending = False, topN = 10)\n",
    "\n",
    "portfolioEDA_handle.portfolioStratification.addDimension(\"BookNewUsed\", \"BookNewUsed\", None, None, False, None)\n",
    "portfolioEDA_handle.portfolioStratification.addDimension(\"BookTier\", \"BookTier\", None, \"Financed\", False, 5)\n",
    "\n",
    "portfolioEDA_handle.portfolioStratification.addDimension(\"LoanStatus\", \"LoanStatus\", None, None, None, None)\n",
    "portfolioEDA_handle.portfolioStratification.addDimension(\"LoanTerm\", \"OriginalTerm\", None, None, None, None)\n",
    "\n",
    "portfolioEDA_handle.portfolioStratification.addDimension(\"IntRate\", \"OriginalRate\", {\"binSize\": 0.02, \"lower\":0.1, \"upper\":0.26}, None, False, None)\n",
    "portfolioEDA_handle.portfolioStratification.addDimension(\"LTVCore\", \"LTVCore\", {\"binSize\": 0.1}, None, False,  None)\n",
    "portfolioEDA_handle.portfolioStratification.addDimension(\"FICO\", \"HighFico\", {\"binSize\": 30, 'lower': 540, \"upper\": 720}, None, False,  None)\n"
   ]
  },
  {
   "cell_type": "code",
   "execution_count": 11,
   "metadata": {},
   "outputs": [],
   "source": [
    "# generate strats\n",
    "portfolioEDA_handle.portfolioStratification.generateStrat()"
   ]
  },
  {
   "cell_type": "code",
   "execution_count": 12,
   "metadata": {},
   "outputs": [
    {
     "name": "stdout",
     "output_type": "stream",
     "text": [
      "+----------------+-------------+-------------+-------------+---------------+------------------+--------------+-----------+------------+-----------+-----------+----------+-------------+\n",
      "|                |   LoanCount |   LoanCount |   LoanCount |   LoanCount % |         Financed |   Financed % |   WAVGLTV |   WAVGFICO |   AvgRate |       PTI |      DTI |   BookValue |\n",
      "|----------------+-------------+-------------+-------------+---------------+------------------+--------------+-----------+------------+-----------+-----------+----------+-------------|\n",
      "| (-inf, 540.0]  |         558 |         558 |         558 |     0.17007   |      1.20437e+07 |    0.176657  |   1.20459 |    524.255 |  0.173401 | 0.10636   | 0.32485  |     20080.8 |\n",
      "| (540.0, 570.0] |         745 |         745 |         745 |     0.227065  |      1.57767e+07 |    0.231413  |   1.2039  |    556.471 |  0.170082 | 0.102985  | 0.332297 |     20444.2 |\n",
      "| (570.0, 600.0] |         756 |         756 |         756 |     0.230418  |      1.56219e+07 |    0.229142  |   1.21625 |    585.161 |  0.165531 | 0.105004  | 0.327873 |     19295.6 |\n",
      "| (600.0, 630.0] |         591 |         591 |         591 |     0.180128  |      1.21365e+07 |    0.178019  |   1.23524 |    614.202 |  0.154399 | 0.104581  | 0.340057 |     19059   |\n",
      "| (630.0, 660.0] |         364 |         364 |         364 |     0.110942  |      7.3129e+06  |    0.107266  |   1.25958 |    643.74  |  0.151861 | 0.102845  | 0.344673 |     18294.8 |\n",
      "| (660.0, 690.0] |         169 |         169 |         169 |     0.0515087 |      3.31442e+06 |    0.048616  |   1.28959 |    672.742 |  0.136655 | 0.0941878 | 0.349253 |     17648.2 |\n",
      "| (690.0, 720.0] |          64 |          64 |          64 |     0.0195062 |      1.25371e+06 |    0.0183895 |   1.26349 |    702.173 |  0.12287  | 0.0939123 | 0.328345 |     18745   |\n",
      "| (720.0, inf]   |          34 |          34 |          34 |     0.0103627 | 715665           |    0.0104974 |   1.28251 |    746.776 |  0.132266 | 0.0983519 | 0.318272 |     18889.3 |\n",
      "| Total          |        3281 |        3281 |        3281 |     1         |      6.81754e+07 |    1         |   1.22327 |    584.9   |  0.162597 | 0.103789  | 0.333024 |     19491.9 |\n",
      "+----------------+-------------+-------------+-------------+---------------+------------------+--------------+-----------+------------+-----------+-----------+----------+-------------+\n"
     ]
    }
   ],
   "source": [
    "tabulatePrint(portfolioEDA_handle.portfolioStratification.stratsTable['FICO'])"
   ]
  },
  {
   "cell_type": "code",
   "execution_count": 13,
   "metadata": {},
   "outputs": [
    {
     "name": "stdout",
     "output_type": "stream",
     "text": [
      "+----------+-------------+-------------+-------------+---------------+-------------+--------------+-----------+------------+-----------+-----------+----------+-------------+\n",
      "|          |   LoanCount |   LoanCount |   LoanCount |   LoanCount % |    Financed |   Financed % |   WAVGLTV |   WAVGFICO |   AvgRate |       PTI |      DTI |   BookValue |\n",
      "|----------+-------------+-------------+-------------+---------------+-------------+--------------+-----------+------------+-----------+-----------+----------+-------------|\n",
      "| CHEVROLE |         432 |         432 |         432 |     0.131667  | 9.25489e+06 |    0.135751  |   1.19723 |    589.418 |  0.163565 | 0.104641  | 0.32948  |     21550.1 |\n",
      "| NISSAN   |         419 |         419 |         419 |     0.127705  | 8.54283e+06 |    0.125307  |   1.24569 |    581.17  |  0.166552 | 0.108424  | 0.341989 |     18434.9 |\n",
      "| FORD     |         257 |         257 |         257 |     0.0783298 | 4.86392e+06 |    0.0713441 |   1.25271 |    588.75  |  0.158772 | 0.100452  | 0.335999 |     17214.9 |\n",
      "| KIA      |         233 |         233 |         233 |     0.0710149 | 4.70191e+06 |    0.0689677 |   1.22357 |    577.659 |  0.166416 | 0.109266  | 0.340774 |     18455.3 |\n",
      "| TOYOTA   |         216 |         216 |         216 |     0.0658336 | 4.5247e+06  |    0.0663684 |   1.24596 |    587.388 |  0.154967 | 0.104675  | 0.340696 |     19444.9 |\n",
      "| JEEP     |         182 |         182 |         182 |     0.0554709 | 3.96788e+06 |    0.0582011 |   1.1935  |    584.091 |  0.16528  | 0.107235  | 0.333008 |     20603   |\n",
      "| HYUNDAI  |         197 |         197 |         197 |     0.0600427 | 3.63312e+06 |    0.0532908 |   1.24959 |    588.541 |  0.166646 | 0.0999598 | 0.34927  |     16573.3 |\n",
      "| DODGE    |         150 |         150 |         150 |     0.0457178 | 3.13222e+06 |    0.0459436 |   1.22907 |    590.862 |  0.162802 | 0.106572  | 0.327964 |     19359.3 |\n",
      "| HONDA    |         149 |         149 |         149 |     0.045413  | 2.76479e+06 |    0.0405541 |   1.26664 |    584.191 |  0.160496 | 0.101398  | 0.337544 |     16614.7 |\n",
      "| DODGE TR |         105 |         105 |         105 |     0.0320024 | 2.32136e+06 |    0.0340498 |   1.18283 |    575.314 |  0.173942 | 0.106711  | 0.32257  |     20471.7 |\n",
      "| Other    |         941 |         941 |         941 |     0.286803  | 2.04678e+07 |    0.300223  |   1.21267 |    584.683 |  0.159719 | 0.100142  | 0.324923 |     20394.8 |\n",
      "| Total    |        3281 |        3281 |        3281 |     1         | 6.81754e+07 |    1         |   1.22327 |    584.9   |  0.162597 | 0.103789  | 0.333024 |     19491.9 |\n",
      "+----------+-------------+-------------+-------------+---------------+-------------+--------------+-----------+------------+-----------+-----------+----------+-------------+\n"
     ]
    }
   ],
   "source": [
    "tabulatePrint(portfolioEDA_handle.portfolioStratification.stratsTable['Make'])"
   ]
  },
  {
   "cell_type": "markdown",
   "metadata": {},
   "source": [
    "#### Portfolio Trend"
   ]
  },
  {
   "cell_type": "code",
   "execution_count": 14,
   "metadata": {},
   "outputs": [
    {
     "name": "stdout",
     "output_type": "stream",
     "text": [
      "                  eopBal\n",
      "Snapshotdt              \n",
      "2020-01-31  1.627753e+08\n",
      "2020-02-29  1.596754e+08\n",
      "2020-03-31  1.562700e+08\n",
      "2020-04-30  1.533145e+08\n",
      "2020-05-31  1.497049e+08\n",
      "2020-06-30  1.468832e+08\n",
      "2020-07-31  1.430261e+08\n",
      "2020-08-31  1.385436e+08\n",
      "2020-09-30  1.339846e+08\n",
      "2020-10-31  1.294785e+08\n",
      "2020-11-30  1.256998e+08\n",
      "2020-12-31  1.213350e+08\n",
      "2021-01-31  1.174719e+08\n",
      "2021-02-28  1.137081e+08\n",
      "2021-03-31  1.089022e+08\n",
      "2021-04-30  1.040577e+08\n",
      "2021-05-31  9.952599e+07\n",
      "2021-06-30  9.488140e+07\n",
      "2021-07-31  9.054105e+07\n",
      "2021-08-31  8.647422e+07\n",
      "2021-09-30  8.235724e+07\n",
      "2021-10-31  7.854644e+07\n",
      "2021-11-30  7.551244e+07\n",
      "2021-12-31  7.204270e+07\n",
      "2022-01-31  6.888128e+07\n",
      "2022-02-28  6.600471e+07\n",
      "2022-03-31  6.252781e+07\n",
      "2022-04-30  5.961922e+07\n",
      "2022-05-31  5.681484e+07\n",
      "2022-06-30  5.434369e+07\n",
      "2022-07-31  5.153813e+07\n",
      "2022-08-31  4.911706e+07\n",
      "2022-09-30  4.693142e+07\n",
      "2022-10-31  4.445605e+07\n",
      "2022-11-30  4.271654e+07\n",
      "2022-12-31  4.093430e+07\n"
     ]
    }
   ],
   "source": [
    "# print(portfolioEDA_handle.portfolioTrend.getMeasureTrend('Snapshotdt', 'UPB', 'sum', None, 'eopBal'))\n",
    "# print(portfolioEDA_handle.portfolioTrend.getMeasureTrend('Snapshotdt', 'HighFico', 'wt_avg', 'UPB', 'FICO'))\n",
    "# print(portfolioEDA_handle.portfolioTrend.getMeasureTrend('Snapshotdt', 'DQBal', 'sum', None, 'DQBal'))\n",
    "# print(portfolioEDA_handle.portfolioTrend.getMeasureTrend('Snapshotdt', 'OriginalTerm', 'wt_avg', 'UPB', 'OrigTerm'))\n",
    "# print(portfolioEDA_handle.portfolioTrend.getMeasureTrend('Snapshotdt', 'RemainingTerm', 'wt_avg', 'UPB', 'RemTerm'))\n",
    "# print(portfolioEDA_handle.portfolioTrend.getMeasureTrend('Snapshotdt', 'CurrentRate', 'wt_avg', 'UPB', 'IntRate'))\n",
    "\n",
    "# print(portfolioEDA_handle.portfolioTrend.portfolioCreditStats('cdr', {'defaultBal':'DefaultBal'}))\n",
    "# print(portfolioEDA_handle.portfolioTrend.portfolioCreditStats('cpr', {'prepayBal':'PrepayBal'}))\n",
    "# print(portfolioEDA_handle.portfolioTrend.portfolioCreditStats('dq', {'dqBal':'DQBal'}))"
   ]
  }
 ],
 "metadata": {
  "kernelspec": {
   "display_name": "Python 3",
   "language": "python",
   "name": "python3"
  },
  "language_info": {
   "codemirror_mode": {
    "name": "ipython",
    "version": 3
   },
   "file_extension": ".py",
   "mimetype": "text/x-python",
   "name": "python",
   "nbconvert_exporter": "python",
   "pygments_lexer": "ipython3",
   "version": "3.10.12"
  },
  "orig_nbformat": 4
 },
 "nbformat": 4,
 "nbformat_minor": 2
}
